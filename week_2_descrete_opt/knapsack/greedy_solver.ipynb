{
 "cells": [
  {
   "cell_type": "code",
   "execution_count": 40,
   "metadata": {
    "collapsed": true
   },
   "outputs": [],
   "source": [
    "from collections import namedtuple, OrderedDict\n",
    "from operator import attrgetter\n",
    "import sys\n",
    "import numpy as np\n",
    "Item = namedtuple(\"Item\", ['index', 'value', 'weight', 'value_per_unit'])"
   ]
  },
  {
   "cell_type": "code",
   "execution_count": 67,
   "metadata": {
    "collapsed": false
   },
   "outputs": [],
   "source": [
    "def solve_it_dp(items, capacity):\n",
    "    # solver using dynamic programming approach\n",
    "    \n",
    "    items_count = len(items)\n",
    "    #print(items[0].value)\n",
    "    \n",
    "    # define data structure - matrix of size K x I\n",
    "    # where K - is the capacity of the knapsack\n",
    "    # I - number of items in the problem\n",
    "    dp_matrix = np.zeros((capacity, items_count+1))\n",
    "    print(dp_matrix.shape)\n",
    "    \n",
    "    for i in range(1, items_count+1):\n",
    "        print('Current item is {}'.format(items[i-1].index))\n",
    "        value = items[i-1].value\n",
    "        weight = items[i-1].weight\n",
    "        for r in range(0, capacity):\n",
    "            #print(\"\"\"{} - {}\"\"\".format(i, r))\n",
    "            if i == 1:\n",
    "                if r + 1 >= weight:\n",
    "                    dp_matrix[r, i] = value\n",
    "            elif i == 2:\n",
    "                if (r + 1 < np.minimum(items[i-2].weight, weight)):\n",
    "                    dp_matrix[r, i] = dp_matrix[r, i-1]\n",
    "                elif (r + 1 >= np.minimum(items[i-2].weight, weight)) & (r + 1 < np.maximum(items[i-2].weight, weight)):\n",
    "                    dp_matrix[r, i] = np.minimum(items[i-2].value, value)\n",
    "                elif (r + 1 >= max(items[i-2].weight, weight)) & (r + 1 < weight + items[i-2].weight):\n",
    "                    dp_matrix[r, i] = np.maximum(items[i-2].value, value)\n",
    "                else:\n",
    "                    dp_matrix[r, i] = value + items[i-2].value\n",
    "            else:\n",
    "                if (r + 1) < weight:\n",
    "                    dp_matrix[r, i] = dp_matrix[r, i-1]\n",
    "                elif ((r + 1) >= weight) & ((r + 1) < sum([el.weight for el in items[0:i]])):\n",
    "                    dp_matrix[r, i] = np.maximum(dp_matrix[r, i-1], value + dp_matrix[np.maximum(r - weight, 0), i-1])\n",
    "                else:\n",
    "                    dp_matrix[r, i] = sum([el.value for el in items[0:i-1]])\n",
    "                        \n",
    "    print('Max value of the knapsack = {}'.format(dp_matrix[capacity-1, items_count]))\n",
    "    # find optimal set of items\n",
    "    r = capacity-1\n",
    "    c = items_count\n",
    "    taken = {}\n",
    "    optimal_values_set = []\n",
    "    optimal_weight_set = []\n",
    "    while c >= 1:\n",
    "        if (dp_matrix[r, c] != dp_matrix[r, c-1]):\n",
    "            taken[c-1] = 1\n",
    "            optimal_values_set.append(items[c-1].value)\n",
    "            optimal_weight_set.append(items[c-1].weight)\n",
    "            r = np.maximum(r - items[c-1].weight, 0)\n",
    "        else:\n",
    "            taken[c-1] = 0\n",
    "        c -= 1\n",
    "    \n",
    "    taken = OrderedDict(sorted(taken.items()))\n",
    "    print('Values taken: \\n')\n",
    "    print(optimal_values_set)\n",
    "    value = sum(optimal_values_set)  \n",
    "    print('Weight of the knapsack = {}'.format(sum(optimal_weight_set)))\n",
    "    \n",
    "    return dict(taken), value"
   ]
  },
  {
   "cell_type": "code",
   "execution_count": null,
   "metadata": {
    "collapsed": false
   },
   "outputs": [],
   "source": []
  },
  {
   "cell_type": "code",
   "execution_count": 4,
   "metadata": {
    "collapsed": false
   },
   "outputs": [],
   "source": [
    "def solve_it_greedy(items, capacity):\n",
    "    # greedy algorithm\n",
    "\n",
    "    # sort items by value (decreasing)\n",
    "    items = sorted(items, key=attrgetter('value_per_unit'), reverse=True)\n",
    "\n",
    "    value = 0\n",
    "    weight = 0\n",
    "    taken = {}\n",
    "    for item in items:\n",
    "        taken[item.index] = 0\n",
    "    for item in items:\n",
    "        #print(item.index)\n",
    "        if (weight + item.weight <= capacity) :\n",
    "            taken[item.index] = 1\n",
    "            value += item.value\n",
    "            weight += item.weight\n",
    "            \n",
    "    taken = OrderedDict(sorted(taken.items()))\n",
    "\n",
    "    return dict(taken), value"
   ]
  },
  {
   "cell_type": "code",
   "execution_count": 46,
   "metadata": {
    "collapsed": false
   },
   "outputs": [],
   "source": [
    "def solve_it(input_data):\n",
    "    # Modify this code to run your optimization algorithm\n",
    "\n",
    "    # parse the input\n",
    "    lines = input_data.split('\\n')\n",
    "\n",
    "    firstLine = lines[0].split()\n",
    "    item_count = int(firstLine[0])\n",
    "    capacity = int(firstLine[1])\n",
    "    print('Trying to fill knapsack with capacity = {}. Total number of items = {}.'.format(capacity, item_count))\n",
    "\n",
    "    items = []\n",
    "    \n",
    "    for i in range(1, item_count+1):\n",
    "        line = lines[i]\n",
    "        parts = line.split()\n",
    "        items.append(Item(i-1, int(parts[0]), int(parts[1]), int(parts[0]) / int(parts[1])))\n",
    "        \n",
    "    taken, value = solve_it_dp(items, capacity)\n",
    "    \n",
    "    # prepare the solution in the specified output format\n",
    "    output_data = str(value) + ' ' + str(0) + '\\n'\n",
    "    output_data += ' '.join(map(str, taken.values()))\n",
    "    return output_data"
   ]
  },
  {
   "cell_type": "code",
   "execution_count": null,
   "metadata": {
    "collapsed": false
   },
   "outputs": [],
   "source": []
  },
  {
   "cell_type": "code",
   "execution_count": null,
   "metadata": {
    "collapsed": false
   },
   "outputs": [],
   "source": []
  },
  {
   "cell_type": "code",
   "execution_count": null,
   "metadata": {
    "collapsed": false
   },
   "outputs": [],
   "source": []
  },
  {
   "cell_type": "code",
   "execution_count": 68,
   "metadata": {
    "collapsed": false
   },
   "outputs": [
    {
     "name": "stdout",
     "output_type": "stream",
     "text": [
      "Trying to fill knapsack with capacity = 31181. Total number of items = 19.\n",
      "(31181, 20)\n",
      "Current item is 0\n",
      "Current item is 1\n",
      "Current item is 2\n",
      "Current item is 3\n",
      "Current item is 4\n",
      "Current item is 5\n",
      "Current item is 6\n",
      "Current item is 7\n",
      "Current item is 8\n",
      "Current item is 9\n",
      "Current item is 10\n",
      "Current item is 11\n",
      "Current item is 12\n",
      "Current item is 13\n",
      "Current item is 14\n",
      "Current item is 15\n",
      "Current item is 16\n",
      "Current item is 17\n",
      "Current item is 18\n",
      "Max value of the knapsack = 12248.0\n",
      "Values taken: \n",
      "\n",
      "[3878, 1513, 2890, 1022, 2945]\n",
      "Weight of the knapsack = 30996\n"
     ]
    }
   ],
   "source": [
    "file_location = r'C:\\Work\\DescreteOpt\\week_2_descrete_opt~\\knapsack\\data\\ks_19_0'\n",
    "with open(file_location, 'r') as input_data_file:\n",
    "    input_data = input_data_file.read()\n",
    "# print(input_data)\n",
    "output = solve_it(input_data)"
   ]
  },
  {
   "cell_type": "code",
   "execution_count": 69,
   "metadata": {
    "collapsed": false
   },
   "outputs": [
    {
     "data": {
      "text/plain": [
       "'12248 0\\n0 0 1 0 0 1 0 1 0 0 0 0 1 1 0 0 0 0 0'"
      ]
     },
     "execution_count": 69,
     "metadata": {},
     "output_type": "execute_result"
    }
   ],
   "source": [
    "output"
   ]
  },
  {
   "cell_type": "code",
   "execution_count": 39,
   "metadata": {
    "collapsed": false
   },
   "outputs": [
    {
     "data": {
      "text/plain": [
       "'11981 0\\n0 0 1 1 0 1 0 0 0 0 0 0 0 1 0 0 0 0 0'"
      ]
     },
     "execution_count": 39,
     "metadata": {},
     "output_type": "execute_result"
    }
   ],
   "source": [
    "output"
   ]
  },
  {
   "cell_type": "code",
   "execution_count": 28,
   "metadata": {
    "collapsed": false
   },
   "outputs": [
    {
     "data": {
      "text/plain": [
       "12248"
      ]
     },
     "execution_count": 28,
     "metadata": {},
     "output_type": "execute_result"
    }
   ],
   "source": [
    "2945+1022+2890+1513+3878"
   ]
  },
  {
   "cell_type": "code",
   "execution_count": 29,
   "metadata": {
    "collapsed": false
   },
   "outputs": [
    {
     "data": {
      "text/plain": [
       "30996"
      ]
     },
     "execution_count": 29,
     "metadata": {},
     "output_type": "execute_result"
    }
   ],
   "source": [
    "7390+2744+7280+3926+9656"
   ]
  },
  {
   "cell_type": "code",
   "execution_count": 101,
   "metadata": {
    "collapsed": true
   },
   "outputs": [],
   "source": [
    "lines = input_data.split('\\n')\n",
    "firstLine = lines[0].split()\n",
    "item_count = int(firstLine[0])\n",
    "capacity = int(firstLine[1])\n",
    "\n",
    "items = []\n",
    "\n",
    "for i in range(1, item_count+1):\n",
    "    line = lines[i]\n",
    "    parts = line.split()\n",
    "    items.append(Item(i-1, int(parts[0]), int(parts[1]), int(parts[0]) / int(parts[1])))"
   ]
  },
  {
   "cell_type": "code",
   "execution_count": 102,
   "metadata": {
    "collapsed": false
   },
   "outputs": [],
   "source": [
    "items = sorted(items, key=attrgetter('value_per_unit'), reverse=True)"
   ]
  },
  {
   "cell_type": "code",
   "execution_count": 104,
   "metadata": {
    "collapsed": false
   },
   "outputs": [
    {
     "data": {
      "text/plain": [
       "[Item(index=0, value=90000, weight=90001, value_per_unit=0.9999888890123443),\n",
       " Item(index=1, value=89750, weight=89751, value_per_unit=0.9999888580628629),\n",
       " Item(index=3, value=89500, weight=89501, value_per_unit=0.9999888269404811),\n",
       " Item(index=5, value=89250, weight=89251, value_per_unit=0.9999887956437463),\n",
       " Item(index=7, value=89000, weight=89001, value_per_unit=0.9999887641711891),\n",
       " Item(index=9, value=88750, weight=88751, value_per_unit=0.9999887325213237),\n",
       " Item(index=11, value=88500, weight=88501, value_per_unit=0.9999887006926476),\n",
       " Item(index=13, value=88250, weight=88251, value_per_unit=0.999988668683641),\n",
       " Item(index=15, value=88000, weight=88001, value_per_unit=0.9999886364927671),\n",
       " Item(index=17, value=87750, weight=87751, value_per_unit=0.9999886041184716),\n",
       " Item(index=19, value=87500, weight=87501, value_per_unit=0.9999885715591822),\n",
       " Item(index=21, value=87250, weight=87251, value_per_unit=0.9999885388133087),\n",
       " Item(index=23, value=87000, weight=87001, value_per_unit=0.9999885058792428),\n",
       " Item(index=25, value=86750, weight=86751, value_per_unit=0.9999884727553573),\n",
       " Item(index=27, value=86500, weight=86501, value_per_unit=0.9999884394400065),\n",
       " Item(index=29, value=86250, weight=86251, value_per_unit=0.9999884059315254),\n",
       " Item(index=2, value=10001, weight=10002, value_per_unit=0.9999000199960008),\n",
       " Item(index=4, value=10252, weight=10254, value_per_unit=0.9998049541642285),\n",
       " Item(index=6, value=10503, weight=10506, value_per_unit=0.9997144488863506),\n",
       " Item(index=8, value=10754, weight=10758, value_per_unit=0.9996281836772635),\n",
       " Item(index=10, value=11005, weight=11010, value_per_unit=0.9995458673932789),\n",
       " Item(index=12, value=11256, weight=11262, value_per_unit=0.9994672349493873),\n",
       " Item(index=14, value=11507, weight=11514, value_per_unit=0.9993920444676047),\n",
       " Item(index=16, value=11758, weight=11766, value_per_unit=0.9993200747917729),\n",
       " Item(index=18, value=12009, weight=12018, value_per_unit=0.9992511233150274),\n",
       " Item(index=20, value=12260, weight=12270, value_per_unit=0.9991850040749797),\n",
       " Item(index=22, value=12511, weight=12522, value_per_unit=0.9991215460789011),\n",
       " Item(index=24, value=12762, weight=12774, value_per_unit=0.9990605918271489),\n",
       " Item(index=26, value=13013, weight=13026, value_per_unit=0.999001996007984),\n",
       " Item(index=28, value=13264, weight=13278, value_per_unit=0.9989456243410152)]"
      ]
     },
     "execution_count": 104,
     "metadata": {},
     "output_type": "execute_result"
    }
   ],
   "source": [
    "items"
   ]
  },
  {
   "cell_type": "code",
   "execution_count": null,
   "metadata": {
    "collapsed": false
   },
   "outputs": [],
   "source": []
  },
  {
   "cell_type": "code",
   "execution_count": null,
   "metadata": {
    "collapsed": false
   },
   "outputs": [],
   "source": []
  },
  {
   "cell_type": "code",
   "execution_count": null,
   "metadata": {
    "collapsed": false
   },
   "outputs": [],
   "source": []
  }
 ],
 "metadata": {
  "anaconda-cloud": {},
  "kernelspec": {
   "display_name": "Python [py3_env]",
   "language": "python",
   "name": "Python [py3_env]"
  },
  "language_info": {
   "codemirror_mode": {
    "name": "ipython",
    "version": 3
   },
   "file_extension": ".py",
   "mimetype": "text/x-python",
   "name": "python",
   "nbconvert_exporter": "python",
   "pygments_lexer": "ipython3",
   "version": "3.5.2"
  }
 },
 "nbformat": 4,
 "nbformat_minor": 0
}
